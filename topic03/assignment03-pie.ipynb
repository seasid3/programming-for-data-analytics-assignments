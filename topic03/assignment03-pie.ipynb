{
 "cells": [
  {
   "cell_type": "markdown",
   "id": "9f04e188",
   "metadata": {},
   "source": [
    "# Topic 3 Assignment"
   ]
  },
  {
   "cell_type": "markdown",
   "id": "41b1b980",
   "metadata": {},
   "source": [
    "## Import the data"
   ]
  },
  {
   "cell_type": "code",
   "execution_count": 13,
   "id": "f9c8e141",
   "metadata": {},
   "outputs": [],
   "source": [
    "# import modules\n",
    "import pandas as pd\n",
    "import matplotlib.pyplot as plt"
   ]
  },
  {
   "cell_type": "code",
   "execution_count": 14,
   "id": "91f3d9f0",
   "metadata": {},
   "outputs": [
    {
     "name": "stdout",
     "output_type": "stream",
     "text": [
      "   Index          User Id First Name Last Name     Sex  \\\n",
      "0      1  8717bbf45cCDbEe     Shelia   Mahoney    Male   \n",
      "1      2  3d5AD30A4cD38ed         Jo    Rivers  Female   \n",
      "2      3  810Ce0F276Badec     Sheryl    Lowery  Female   \n",
      "3      4  BF2a889C00f0cE1    Whitney    Hooper    Male   \n",
      "4      5  9afFEafAe1CBBB9    Lindsey      Rice  Female   \n",
      "\n",
      "                           Email               Phone Date of birth  \\\n",
      "0            pwarner@example.org        857.139.8239    2014-01-27   \n",
      "1  fergusonkatherine@example.net     +1-950-759-8687    1931-07-26   \n",
      "2            fhoward@example.org       (599)782-0605    2013-11-25   \n",
      "3          zjohnston@example.com     +1-939-130-6258    2012-11-17   \n",
      "4               elin@example.net  (390)417-1635x3010    1923-04-15   \n",
      "\n",
      "                  Job Title  \n",
      "0         Probation officer  \n",
      "1                    Dancer  \n",
      "2                      Copy  \n",
      "3  Counselling psychologist  \n",
      "4       Biomedical engineer  \n"
     ]
    }
   ],
   "source": [
    "# import data from url\n",
    "# https://pandas.pydata.org/docs/reference/api/pandas.read_csv.html\n",
    "# https://stackoverflow.com/questions/27696930/using-split-to-split-values-in-an-entire-column-in-a-python-dataframe\n",
    "\n",
    "url = \"https://drive.google.com/uc?id=1AWPf-pJodJKeHsARQK_RHiNsE8fjPCVK&export=download\"\n",
    "df = pd.read_csv(url)\n",
    "print(df.head())"
   ]
  },
  {
   "cell_type": "markdown",
   "id": "ffc8efdd",
   "metadata": {},
   "source": [
    "## Creat a pie chart of people's domain names"
   ]
  },
  {
   "cell_type": "code",
   "execution_count": null,
   "id": "34a3b274",
   "metadata": {},
   "outputs": [
    {
     "name": "stdout",
     "output_type": "stream",
     "text": [
      "0    example.org\n",
      "1    example.net\n",
      "2    example.org\n",
      "3    example.com\n",
      "4    example.net\n",
      "Name: domain, dtype: object\n"
     ]
    }
   ],
   "source": [
    "# split the email address to get the domain names\n",
    "# https://www.geeksforgeeks.org/python/python-extract-domain-name-from-email-address/\n",
    "# https://stackoverflow.com/questions/27696930/using-split-to-split-values-in-an-entire-column-in-a-python-dataframe\n",
    "# asking ChatGPT for help https://chatgpt.com/share/68f26b95-3ecc-800d-becd-cfa88aad2c91\n",
    "\n",
    "df['domain'] = df['Email'].str.split('@').str[1]\n",
    "print(df['domain'].head())\n",
    "\n",
    "\n",
    "\n"
   ]
  },
  {
   "cell_type": "code",
   "execution_count": 16,
   "id": "c474ceae",
   "metadata": {},
   "outputs": [
    {
     "name": "stdout",
     "output_type": "stream",
     "text": [
      "domain\n",
      "example.org    341\n",
      "example.com    339\n",
      "example.net    320\n",
      "Name: count, dtype: int64\n"
     ]
    }
   ],
   "source": [
    "# do a counts on the domain names\n",
    "# code from co-pilot when i said i wanted to do a count on the domains in the Email column\n",
    "domain_counts = df['domain'].value_counts()\n",
    "print(domain_counts)"
   ]
  },
  {
   "cell_type": "code",
   "execution_count": 36,
   "id": "cdfb56e3",
   "metadata": {},
   "outputs": [
    {
     "data": {
      "image/png": "[encoded data removed]",
      "text/plain": [
       "<Figure size 640x480 with 1 Axes>"
      ]
     },
     "metadata": {},
     "output_type": "display_data"
    }
   ],
   "source": [
    "# create pie chart\n",
    "# https://matplotlib.org/stable/gallery/pie_and_polar_charts/pie_features.html\n",
    "\n",
    "# chat with ChatGPT https://chatgpt.com/share/68f26b95-3ecc-800d-becd-cfa88aad2c91\n",
    "\n",
    "# get the top 3 domains for the pie chart\n",
    "# https://pandas.pydata.org/docs/reference/api/pandas.DataFrame.value_counts.html\n",
    "domain_counts = df['domain'].value_counts().head(3)  # top 3 domains\n",
    "\n",
    "# assign labels and sizes (above ChatGPT conversation)\n",
    "labels = domain_counts.index\n",
    "sizes = domain_counts.values\n",
    "\n",
    "# create the pie chart\n",
    "# pick nice colours https://datascientyst.com/full-list-named-colors-pandas-python-matplotlib/\n",
    "\n",
    "explode = (0.01, 0.01, 0.01) # explode all slices for emphasis\n",
    "fig, ax = plt.subplots()\n",
    "ax.pie(sizes, explode=explode, labels=labels, autopct='%1.1f%%', startangle=90, colors=['aquamarine', 'yellow', 'coral'])\n",
    "\n",
    "# make the pie chart circular\n",
    "ax.axis('equal')\n",
    "\n",
    "# add title, with bold italic font https://matplotlib.org/stable/users/explain/text/text_props.html\n",
    "plt.title('Distribution of Email Domains', fontweight='bold', family='calibri', fontsize=16)\n",
    "plt.show()"
   ]
  }
 ],
 "metadata": {
  "kernelspec": {
   "display_name": "sci_env",
   "language": "python",
   "name": "python3"
  },
  "language_info": {
   "codemirror_mode": {
    "name": "ipython",
    "version": 3
   },
   "file_extension": ".py",
   "mimetype": "text/x-python",
   "name": "python",
   "nbconvert_exporter": "python",
   "pygments_lexer": "ipython3",
   "version": "3.12.11"
  }
 },
 "nbformat": 4,
 "nbformat_minor": 5
}
